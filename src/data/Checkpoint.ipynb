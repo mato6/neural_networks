{
 "cells": [
  {
   "cell_type": "markdown",
   "metadata": {},
   "source": [
    "# Neural networks, Checkpoint \n",
    "\n",
    "Faculty: FIIT <br>\n",
    "Academic year: 2019/2020 <br>\n",
    "Authors: Andrej Gáfrik, Martin Grega <br>\n",
    "\n",
    "\n",
    "We had to change out source data to https://figshare.com/articles/Wikipedia_Detox_Data/4054689, because of bad formatting in data, which we couldn't solve."
   ]
  },
  {
   "cell_type": "code",
   "execution_count": 55,
   "metadata": {},
   "outputs": [
    {
     "name": "stdout",
     "output_type": "stream",
     "text": [
      "Requirement already satisfied: h5py in /usr/local/lib/python3.6/dist-packages (2.10.0)\n",
      "Requirement already satisfied: numpy>=1.7 in /usr/local/lib/python3.6/dist-packages (from h5py) (1.17.2)\n",
      "Requirement already satisfied: six in /usr/lib/python3/dist-packages (from h5py) (1.11.0)\n",
      "\u001b[33mWARNING: You are using pip version 19.2.3, however version 19.3.1 is available.\n",
      "You should consider upgrading via the 'pip install --upgrade pip' command.\u001b[0m\n"
     ]
    }
   ],
   "source": [
    "# !pip install pandas\n",
    "# !pip install nltk\n",
    "# !pip install tokenizer\n",
    "#!pip uninstall keras\n",
    "#!pip install keras --upgrade\n",
    "#!pip install sklearn\n",
    "#!pip install h5py"
   ]
  },
  {
   "cell_type": "code",
   "execution_count": 1,
   "metadata": {},
   "outputs": [],
   "source": [
    "\n",
    "\n",
    "import os\n",
    "import pandas as pd\n",
    "import numpy as np\n",
    "\n",
    "pd.set_option('display.max_rows', 500)\n",
    "pd.set_option('display.max_columns', 500)\n",
    "pd.set_option('display.width', 1000)"
   ]
  },
  {
   "cell_type": "code",
   "execution_count": null,
   "metadata": {},
   "outputs": [],
   "source": [
    "comments = pd.read_csv('../../data/attack_annotated_comments.tsv', sep='\\t')\n",
    "labels = pd.read_csv('../../data/attack_annotations.tsv', sep='\\t')"
   ]
  },
  {
   "cell_type": "code",
   "execution_count": 8,
   "metadata": {},
   "outputs": [
    {
     "ename": "SyntaxError",
     "evalue": "invalid syntax (<ipython-input-8-46cbd787b5a9>, line 1)",
     "output_type": "error",
     "traceback": [
      "\u001b[0;36m  File \u001b[0;32m\"<ipython-input-8-46cbd787b5a9>\"\u001b[0;36m, line \u001b[0;32m1\u001b[0m\n\u001b[0;31m    jupyter notebook list\u001b[0m\n\u001b[0m                   ^\u001b[0m\n\u001b[0;31mSyntaxError\u001b[0m\u001b[0;31m:\u001b[0m invalid syntax\n"
     ]
    }
   ],
   "source": [
    "jupyter notebook list"
   ]
  },
  {
   "cell_type": "code",
   "execution_count": null,
   "metadata": {},
   "outputs": [],
   "source": [
    "comments = comments.drop(columns=['year','logged_in','ns','sample','split'])"
   ]
  },
  {
   "cell_type": "code",
   "execution_count": null,
   "metadata": {
    "scrolled": true
   },
   "outputs": [],
   "source": [
    "comments"
   ]
  },
  {
   "cell_type": "markdown",
   "metadata": {},
   "source": [
    "Problems in data:\n",
    " - tabular, new line and qoutes were replaced with tab_token, new_line token and `\n",
    " - punctuation\n",
    " - more spaces between words\n",
    " - empty strings\n",
    " - abbreviations like i will = i'll , didn't = did not, ..."
   ]
  },
  {
   "cell_type": "code",
   "execution_count": null,
   "metadata": {},
   "outputs": [],
   "source": [
    "labels = labels.drop(columns=['worker_id','quoting_attack','recipient_attack','third_party_attack','other_attack'])"
   ]
  },
  {
   "cell_type": "code",
   "execution_count": null,
   "metadata": {
    "scrolled": true
   },
   "outputs": [],
   "source": [
    "labels\n",
    "\n"
   ]
  },
  {
   "cell_type": "code",
   "execution_count": null,
   "metadata": {},
   "outputs": [],
   "source": [
    "res = labels.groupby('rev_id')['attack'].mean().reset_index()"
   ]
  },
  {
   "cell_type": "code",
   "execution_count": null,
   "metadata": {},
   "outputs": [],
   "source": [
    "res"
   ]
  },
  {
   "cell_type": "code",
   "execution_count": null,
   "metadata": {},
   "outputs": [],
   "source": [
    "data = comments.join(res.set_index('rev_id'), on='rev_id')\n",
    "data['attack'] = data['attack'].round(0)"
   ]
  },
  {
   "cell_type": "code",
   "execution_count": null,
   "metadata": {},
   "outputs": [],
   "source": [
    "data"
   ]
  },
  {
   "cell_type": "code",
   "execution_count": null,
   "metadata": {},
   "outputs": [],
   "source": [
    "data.info()\n",
    "data.isnull().values.any()"
   ]
  },
  {
   "cell_type": "code",
   "execution_count": null,
   "metadata": {},
   "outputs": [],
   "source": [
    "# In out data are newlines, tabulators and quotions marks replaced, so we need to delete this replacement\n",
    "data['comment'] = data['comment'].apply(lambda x: x.replace(\"NEWLINE_TOKEN\",\"\"))\n",
    "data['comment'] = data['comment'].apply(lambda x: x.replace(\"TAB_TOKEN\",\"\"))\n",
    "data['comment'] = data['comment'].apply(lambda x: x.replace(\"``\",'\"'))"
   ]
  },
  {
   "cell_type": "code",
   "execution_count": null,
   "metadata": {},
   "outputs": [],
   "source": [
    "# Source: https://www.kaggle.com/prashantkikani/pooled-gru-with-preprocessing\n",
    "repl = {\n",
    "    \"&lt;3\": \" good \",\n",
    "    \":d\": \" good \",\n",
    "    \":dd\": \" good \",\n",
    "    \":p\": \" good \",\n",
    "    \"8)\": \" good \",\n",
    "    \":-)\": \" good \",\n",
    "    \":)\": \" good \",\n",
    "    \";)\": \" good \",\n",
    "    \"(-:\": \" good \",\n",
    "    \"(:\": \" good \",\n",
    "    \"yay!\": \" good \",\n",
    "    \"yay\": \" good \",\n",
    "    \"yaay\": \" good \",\n",
    "    \"yaaay\": \" good \",\n",
    "    \"yaaaay\": \" good \",\n",
    "    \"yaaaaay\": \" good \",\n",
    "    \":/\": \" bad \",\n",
    "    \":&gt;\": \" sad \",\n",
    "    \":')\": \" sad \",\n",
    "    \":-(\": \" bad \",\n",
    "    \":(\": \" bad \",\n",
    "    \":s\": \" bad \",\n",
    "    \":-s\": \" bad \",\n",
    "    \"&lt;3\": \" heart \",\n",
    "    \":d\": \" smile \",\n",
    "    \":p\": \" smile \",\n",
    "    \":dd\": \" smile \",\n",
    "    \"8)\": \" smile \",\n",
    "    \":-)\": \" smile \",\n",
    "    \":)\": \" smile \",\n",
    "    \";)\": \" smile \",\n",
    "    \"(-:\": \" smile \",\n",
    "    \"(:\": \" smile \",\n",
    "    \":/\": \" worry \",\n",
    "    \":&gt;\": \" angry \",\n",
    "    \":')\": \" sad \",\n",
    "    \":-(\": \" sad \",\n",
    "    \":(\": \" sad \",\n",
    "    \":s\": \" sad \",\n",
    "    \":-s\": \" sad \",\n",
    "    r\"\\br\\b\": \"are\",\n",
    "    r\"\\bu\\b\": \"you\",\n",
    "    r\"\\bhaha\\b\": \"ha\",\n",
    "    r\"\\bhahaha\\b\": \"ha\",\n",
    "    r\"\\bdon't\\b\": \"do not\",\n",
    "    r\"\\bdoesn't\\b\": \"does not\",\n",
    "    r\"\\bdidn't\\b\": \"did not\",\n",
    "    r\"\\bhasn't\\b\": \"has not\",\n",
    "    r\"\\bhaven't\\b\": \"have not\",\n",
    "    r\"\\bhadn't\\b\": \"had not\",\n",
    "    r\"\\bwon't\\b\": \"will not\",\n",
    "    r\"\\bwouldn't\\b\": \"would not\",\n",
    "    r\"\\bcan't\\b\": \"can not\",\n",
    "    r\"\\bcannot\\b\": \"can not\",\n",
    "    r\"\\bi'm\\b\": \"i am\",\n",
    "    \"m\": \"am\",\n",
    "    \"r\": \"are\",\n",
    "    \"u\": \"you\",\n",
    "    \"haha\": \"ha\",\n",
    "    \"hahaha\": \"ha\",\n",
    "    \"don't\": \"do not\",\n",
    "    \"doesn't\": \"does not\",\n",
    "    \"didn't\": \"did not\",\n",
    "    \"hasn't\": \"has not\",\n",
    "    \"haven't\": \"have not\",\n",
    "    \"hadn't\": \"had not\",\n",
    "    \"won't\": \"will not\",\n",
    "    \"wouldn't\": \"would not\",\n",
    "    \"can't\": \"can not\",\n",
    "    \"cannot\": \"can not\",\n",
    "    \"i'm\": \"i am\",\n",
    "    \"m\": \"am\",\n",
    "    \"i'll\" : \"i will\",\n",
    "    \"its\" : \"it is\",\n",
    "    \"'s\" : \" is\",\n",
    "    \"'s\" : \" is\",\n",
    "    \"`d\": \" would\",\n",
    "    \"that's\" : \"that is\",\n",
    "    \"weren't\" : \"were not\",\n",
    "    \"e.g\" : \"eg\",\n",
    "}"
   ]
  },
  {
   "cell_type": "code",
   "execution_count": null,
   "metadata": {},
   "outputs": [],
   "source": [
    "#splitting comments by spaces\n",
    "comments = data['comment'].apply(lambda x: x.split())"
   ]
  },
  {
   "cell_type": "code",
   "execution_count": null,
   "metadata": {},
   "outputs": [],
   "source": [
    "import re\n",
    "abbr = [i for i in repl.keys()]\n",
    "result = []\n",
    "for index in range(len(comments)):\n",
    "    new_comment = \"\"\n",
    "    for word in comments[index]:\n",
    "        word = word.lower()\n",
    "        word = re.sub(r\"n't\", \" not\", word)\n",
    "        word = re.sub(r\"\\ 's\", \" not\", word)\n",
    "        word = re.sub(r\"\\ 've\", \" not\", word)\n",
    "        word = re.sub(r\"\\ 'd\", \" not\", word)\n",
    "        word = re.sub(r\"\\ ll\", \" not\", word)\n",
    "        if re.search(\"^http.+|^www.+\",word): # deleting links\n",
    "            continue\n",
    "        elif word in abbr:\n",
    "            new_comment += repl[word]\n",
    "            new_comment += \" \"\n",
    "            word = repl[word]\n",
    "        elif re.search(\"[^a-zA-Z ]+\",word): # only alphabet\n",
    "            new_comment += re.sub(\"[^a-zA-Z ]+\",\" \",word)\n",
    "            new_comment += \" \"\n",
    "        else:\n",
    "            new_comment += word  \n",
    "            new_comment += \" \"\n",
    "            \n",
    "    new_comment = \" \".join(new_comment.split())        \n",
    "   # print(\"Old = \", comments[index])\n",
    "   # print(\"New = \", new_comment)\n",
    "    result.append(new_comment)\n",
    "data[\"comment\"] = result"
   ]
  },
  {
   "cell_type": "code",
   "execution_count": null,
   "metadata": {
    "scrolled": true
   },
   "outputs": [],
   "source": [
    "pd.options.display.max_rows = 999\n",
    "data"
   ]
  },
  {
   "cell_type": "code",
   "execution_count": null,
   "metadata": {},
   "outputs": [],
   "source": [
    "# replacing empty strings with nan\n",
    "data['comment'].replace('', np.nan, inplace=True)"
   ]
  },
  {
   "cell_type": "code",
   "execution_count": null,
   "metadata": {},
   "outputs": [],
   "source": [
    "# checking nan values on data\n",
    "data.info()\n",
    "data.isnull().values.any()"
   ]
  },
  {
   "cell_type": "code",
   "execution_count": null,
   "metadata": {},
   "outputs": [],
   "source": [
    "# drop nan rows\n",
    "data.dropna(subset=['comment'], inplace=True)\n",
    "data = data.reset_index(drop=True)"
   ]
  },
  {
   "cell_type": "markdown",
   "metadata": {},
   "source": [
    "# Stemming"
   ]
  },
  {
   "cell_type": "code",
   "execution_count": null,
   "metadata": {},
   "outputs": [],
   "source": [
    "from nltk.stem import SnowballStemmer\n",
    "\n",
    "def stemmer(comment):\n",
    "    stemmer = SnowballStemmer('english')\n",
    "    words = comment.split()\n",
    "    stemmed = [stemmer.stem(word) for word in words]\n",
    "    stemmed\n",
    "    return \" \".join(stemmed)\n",
    "\n",
    "t = data['comment'].map(lambda x: stemmer(x))"
   ]
  },
  {
   "cell_type": "code",
   "execution_count": null,
   "metadata": {},
   "outputs": [],
   "source": [
    "data['stemmed_comments'] = t"
   ]
  },
  {
   "cell_type": "code",
   "execution_count": 66,
   "metadata": {},
   "outputs": [],
   "source": [
    "data['number_of_words'] = data.stemmed_comments.apply(lambda x: len(x.split()))"
   ]
  },
  {
   "cell_type": "code",
   "execution_count": 89,
   "metadata": {},
   "outputs": [],
   "source": [
    "data = data.loc[data['number_of_words'] <= 300]"
   ]
  },
  {
   "cell_type": "code",
   "execution_count": 90,
   "metadata": {
    "scrolled": false
   },
   "outputs": [
    {
     "data": {
      "text/plain": [
       "rev_id                                                        6360046\n",
       "comment             wikipedia is an encyclopedia not a dictionary ...\n",
       "attack                                                              0\n",
       "stemmed_comments    wikipedia is an encyclopedia not a dictionari ...\n",
       "number_of_words                                                   300\n",
       "Name: 479, dtype: object"
      ]
     },
     "execution_count": 90,
     "metadata": {},
     "output_type": "execute_result"
    }
   ],
   "source": [
    "data.loc[data['number_of_words'].idxmax()]"
   ]
  },
  {
   "cell_type": "code",
   "execution_count": 102,
   "metadata": {},
   "outputs": [
    {
     "data": {
      "text/plain": [
       "0.0    98887\n",
       "1.0    13206\n",
       "Name: attack, dtype: int64"
      ]
     },
     "execution_count": 102,
     "metadata": {},
     "output_type": "execute_result"
    }
   ],
   "source": [
    "data['attack'].value_counts()"
   ]
  },
  {
   "cell_type": "code",
   "execution_count": 101,
   "metadata": {},
   "outputs": [],
   "source": [
    "# saving cleaned data\n",
    "data.to_csv('../../data/preprocessed_data_1.csv', encoding='utf-8')"
   ]
  },
  {
   "cell_type": "markdown",
   "metadata": {},
   "source": [
    "# Tokenizing"
   ]
  },
  {
   "cell_type": "code",
   "execution_count": 2,
   "metadata": {},
   "outputs": [],
   "source": [
    "data= pd.read_csv('../../data/preprocessed_data_1.csv', index_col=0)"
   ]
  },
  {
   "cell_type": "code",
   "execution_count": 3,
   "metadata": {},
   "outputs": [],
   "source": [
    "import tensorflow.keras as keras\n",
    "from tensorflow.keras.preprocessing.text import Tokenizer\n",
    "from tensorflow.keras.preprocessing.sequence import pad_sequences\n",
    "from nltk.tokenize import word_tokenize"
   ]
  },
  {
   "cell_type": "code",
   "execution_count": 4,
   "metadata": {
    "scrolled": true
   },
   "outputs": [],
   "source": [
    "tokenizer = Tokenizer()\n",
    "\n",
    "# Training of our tokenizer\n",
    "tokenizer.fit_on_texts(data['stemmed_comments'])\n",
    "#tokenizer.fit_on_texts(data['comment'])\n",
    "\n",
    "# Number of unique words in our data\n",
    "vocab_len = len(tokenizer.word_index) + 1\n",
    "\n",
    "#converting comment into numeric form, each unique word has a number, so comment will be rewrite into numbers\n",
    "embedded = tokenizer.texts_to_sequences(data['stemmed_comments'])"
   ]
  },
  {
   "cell_type": "code",
   "execution_count": 5,
   "metadata": {},
   "outputs": [],
   "source": [
    "longest_sentence_len = len(max(embedded, key= len))\n",
    "\n",
    "#Adding zeroes to end of eat embeded sentece to len of the longest sentence\n",
    "padded_comments = pad_sequences(embedded, longest_sentence_len, padding='post')"
   ]
  },
  {
   "cell_type": "markdown",
   "metadata": {},
   "source": [
    "# Glove embeddings"
   ]
  },
  {
   "cell_type": "code",
   "execution_count": 6,
   "metadata": {},
   "outputs": [],
   "source": [
    "glove = open('../../data/glove.6B.100d.txt', encoding=\"utf8\")\n",
    "from numpy import array\n",
    "from numpy import asarray"
   ]
  },
  {
   "cell_type": "code",
   "execution_count": 7,
   "metadata": {},
   "outputs": [],
   "source": [
    "# Train and test data\n",
    "size_train = round(len(padded_comments)* 0.8)\n",
    "\n",
    "train_padded = padded_comments[:size_train]\n",
    "train_attack =asarray(data['attack'][:size_train], dtype='int32')\n",
    "\n",
    "test_padded = padded_comments[size_train + 1:]\n",
    "test_attack = asarray(data['attack'][size_train + 1:], dtype='int32')"
   ]
  },
  {
   "cell_type": "code",
   "execution_count": 8,
   "metadata": {},
   "outputs": [
    {
     "data": {
      "text/plain": [
       "{0: 78913, 1: 10761}"
      ]
     },
     "execution_count": 8,
     "metadata": {},
     "output_type": "execute_result"
    }
   ],
   "source": [
    "unique, counts = np.unique(train_attack, return_counts=True)\n",
    "dict(zip(unique, counts))"
   ]
  },
  {
   "cell_type": "code",
   "execution_count": 9,
   "metadata": {},
   "outputs": [
    {
     "data": {
      "text/plain": [
       "{0: 19973, 1: 2445}"
      ]
     },
     "execution_count": 9,
     "metadata": {},
     "output_type": "execute_result"
    }
   ],
   "source": [
    "unique, counts = np.unique(test_attack, return_counts=True)\n",
    "dict(zip(unique, counts))"
   ]
  },
  {
   "cell_type": "code",
   "execution_count": 10,
   "metadata": {},
   "outputs": [],
   "source": [
    "# Preparing glove dictonary\n",
    "glove_dict = dict()\n",
    "\n",
    "#according to glove file, first is word and next are vectors\n",
    "for line in glove:\n",
    "    splitted = line.split()\n",
    "    word = splitted[0]\n",
    "    vectors = asarray(splitted[1:], dtype='float32')\n",
    "    glove_dict [word] = vectors \n",
    "\n",
    "\n",
    "glove.close()"
   ]
  },
  {
   "cell_type": "code",
   "execution_count": 11,
   "metadata": {},
   "outputs": [],
   "source": [
    "from numpy import zeros\n",
    "zle = 0\n",
    "# create dict with only words in out data\n",
    "word_matrix = zeros((vocab_len, 100))\n",
    "# iterate throuh all words in our data and find vector for them\n",
    "for word, index in tokenizer.word_index.items():\n",
    "    vectors = glove_dict.get(word)\n",
    "    if vectors is not None:\n",
    "        word_matrix[index] = vectors # pretrained word embedings with words from our comments\n",
    "        "
   ]
  },
  {
   "cell_type": "markdown",
   "metadata": {},
   "source": [
    "# GRU "
   ]
  },
  {
   "cell_type": "code",
   "execution_count": 12,
   "metadata": {},
   "outputs": [],
   "source": [
    "from tensorflow.keras.models import Sequential\n",
    "from tensorflow.keras.layers import Embedding,GRU,Dense\n",
    "from tensorflow.keras.initializers import Constant\n",
    "from sklearn.utils import class_weight\n",
    "from datetime import datetime\n",
    "\n",
    "def GRU_model():\n",
    "    model = Sequential()\n",
    "    embedding_layer = Embedding(vocab_len,100,embeddings_initializer = Constant(word_matrix),input_length=longest_sentence_len,trainable=False)\n",
    "    model.add(embedding_layer)\n",
    "    model.add(GRU(units = 64, dropout = 0.4))\n",
    "    model.add(Dense(1, activation='sigmoid'))\n",
    "    model.compile(loss='mean_squared_error', optimizer='adam', metrics=['accuracy'], learning_rate = 0.005)\n",
    "    return model\n"
   ]
  },
  {
   "cell_type": "code",
   "execution_count": 13,
   "metadata": {
    "scrolled": false
   },
   "outputs": [
    {
     "name": "stdout",
     "output_type": "stream",
     "text": [
      "Model: \"sequential\"\n",
      "_________________________________________________________________\n",
      "Layer (type)                 Output Shape              Param #   \n",
      "=================================================================\n",
      "embedding (Embedding)        (None, 300, 100)          9365400   \n",
      "_________________________________________________________________\n",
      "gru (GRU)                    (None, 64)                31872     \n",
      "_________________________________________________________________\n",
      "dense (Dense)                (None, 1)                 65        \n",
      "=================================================================\n",
      "Total params: 9,397,337\n",
      "Trainable params: 31,937\n",
      "Non-trainable params: 9,365,400\n",
      "_________________________________________________________________\n"
     ]
    }
   ],
   "source": [
    "model = GRU_model()\n",
    "model.summary()"
   ]
  },
  {
   "cell_type": "code",
   "execution_count": 14,
   "metadata": {},
   "outputs": [],
   "source": [
    "class_weights = class_weight.compute_class_weight('balanced',\n",
    "                                                 np.unique(train_attack),\n",
    "                                                 train_attack)"
   ]
  },
  {
   "cell_type": "code",
   "execution_count": 15,
   "metadata": {},
   "outputs": [
    {
     "data": {
      "text/plain": [
       "(array([0, 1], dtype=int32), array([78913, 10761]))"
      ]
     },
     "execution_count": 15,
     "metadata": {},
     "output_type": "execute_result"
    }
   ],
   "source": [
    "np.unique(train_attack, return_counts=True)"
   ]
  },
  {
   "cell_type": "code",
   "execution_count": 16,
   "metadata": {},
   "outputs": [
    {
     "data": {
      "text/plain": [
       "{0: 0.5681826821943152, 1: 4.166620202583403}"
      ]
     },
     "execution_count": 16,
     "metadata": {},
     "output_type": "execute_result"
    }
   ],
   "source": [
    "weights = {0: class_weights[0], 1: class_weights[1]}\n",
    "weights"
   ]
  },
  {
   "cell_type": "code",
   "execution_count": 40,
   "metadata": {
    "scrolled": true
   },
   "outputs": [
    {
     "name": "stdout",
     "output_type": "stream",
     "text": [
      "Train on 89674 samples, validate on 22418 samples\n",
      "Epoch 1/15\n",
      "89674/89674 [==============================] - 43s 483us/sample - loss: 0.2501 - accuracy: 0.4764 - val_loss: 0.2407 - val_accuracy: 0.1108\n",
      "Epoch 2/15\n",
      "89674/89674 [==============================] - 41s 458us/sample - loss: 0.1617 - accuracy: 0.6582 - val_loss: 0.0935 - val_accuracy: 0.8751\n",
      "Epoch 3/15\n",
      "89674/89674 [==============================] - 41s 459us/sample - loss: 0.0998 - accuracy: 0.8687 - val_loss: 0.0880 - val_accuracy: 0.8864\n",
      "Epoch 4/15\n",
      "89674/89674 [==============================] - 41s 460us/sample - loss: 0.0930 - accuracy: 0.8775 - val_loss: 0.0855 - val_accuracy: 0.8921\n",
      "Epoch 5/15\n",
      "89674/89674 [==============================] - 41s 458us/sample - loss: 0.0902 - accuracy: 0.8799 - val_loss: 0.0829 - val_accuracy: 0.8926\n",
      "Epoch 6/15\n",
      "89674/89674 [==============================] - 41s 459us/sample - loss: 0.0866 - accuracy: 0.8851 - val_loss: 0.0841 - val_accuracy: 0.9145\n",
      "Epoch 7/15\n",
      "89674/89674 [==============================] - 41s 461us/sample - loss: 0.0839 - accuracy: 0.8888 - val_loss: 0.0802 - val_accuracy: 0.9004\n",
      "Epoch 8/15\n",
      "89674/89674 [==============================] - 41s 461us/sample - loss: 0.0832 - accuracy: 0.8869 - val_loss: 0.0795 - val_accuracy: 0.9038\n",
      "Epoch 9/15\n",
      "89674/89674 [==============================] - 41s 460us/sample - loss: 0.0810 - accuracy: 0.8900 - val_loss: 0.0775 - val_accuracy: 0.8879\n",
      "Epoch 10/15\n",
      "89674/89674 [==============================] - 41s 460us/sample - loss: 0.0791 - accuracy: 0.8933 - val_loss: 0.0794 - val_accuracy: 0.8854\n",
      "Epoch 11/15\n",
      "89674/89674 [==============================] - 41s 459us/sample - loss: 0.0774 - accuracy: 0.8963 - val_loss: 0.0772 - val_accuracy: 0.8994\n",
      "Epoch 12/15\n",
      "89674/89674 [==============================] - 41s 460us/sample - loss: 0.0772 - accuracy: 0.8961 - val_loss: 0.0853 - val_accuracy: 0.8398\n",
      "Epoch 13/15\n",
      "89674/89674 [==============================] - 41s 460us/sample - loss: 0.0762 - accuracy: 0.8965 - val_loss: 0.0774 - val_accuracy: 0.9036\n",
      "Epoch 14/15\n",
      "89674/89674 [==============================] - 41s 459us/sample - loss: 0.0748 - accuracy: 0.8985 - val_loss: 0.0814 - val_accuracy: 0.8622\n",
      "Epoch 15/15\n",
      "89674/89674 [==============================] - 41s 461us/sample - loss: 0.0739 - accuracy: 0.9004 - val_loss: 0.0755 - val_accuracy: 0.9011\n"
     ]
    }
   ],
   "source": [
    "# logging for GRU model, \n",
    "#TU zmen GRu_7 na novy priecinok\n",
    "logdir = \"../../logs/GRU_7/\" + datetime.now().strftime(\"%Y%m%d-%H%M%S\")\n",
    "tensorboard_callback = keras.callbacks.TensorBoard(log_dir=logdir, histogram_freq=0,profile_batch=0)\n",
    "\n",
    "#Not working in notebook and docker, trained in google colab, screen of results in model\n",
    "history = model.fit(train_padded,train_attack,batch_size=128, epochs=15, \n",
    "          validation_data=(test_padded,test_attack),verbose=1, class_weight=weights, callbacks=[tensorboard_callback])"
   ]
  },
  {
   "cell_type": "code",
   "execution_count": 19,
   "metadata": {},
   "outputs": [],
   "source": [
    "import matplotlib.pyplot as plt"
   ]
  },
  {
   "cell_type": "code",
   "execution_count": 41,
   "metadata": {},
   "outputs": [
    {
     "data": {
      "image/png": "[encoded data removed]",
      "text/plain": [
       "<Figure size 432x288 with 1 Axes>"
      ]
     },
     "metadata": {
      "needs_background": "light"
     },
     "output_type": "display_data"
    },
    {
     "data": {
      "image/png": "[encoded data removed]",
      "text/plain": [
       "<Figure size 432x288 with 1 Axes>"
      ]
     },
     "metadata": {
      "needs_background": "light"
     },
     "output_type": "display_data"
    }
   ],
   "source": [
    "plt.plot(history.history['accuracy'])\n",
    "plt.plot(history.history['val_accuracy'])\n",
    "plt.title('model accuracy')\n",
    "plt.ylabel('accuracy')\n",
    "plt.xlabel('epoch')\n",
    "plt.legend(['train', 'test'], loc='upper left')\n",
    "plt.show()\n",
    "# summarize history for loss\n",
    "plt.plot(history.history['loss'])\n",
    "plt.plot(history.history['val_loss'])\n",
    "plt.title('model loss')\n",
    "plt.ylabel('loss')\n",
    "plt.xlabel('epoch')\n",
    "plt.legend(['train', 'test'], loc='upper left')\n",
    "plt.show()"
   ]
  },
  {
   "cell_type": "code",
   "execution_count": 42,
   "metadata": {},
   "outputs": [],
   "source": [
    "#Vytvor priecinok novy a tu zmen GRU_7 na svoj novy priecinok vzdy ekd mas novy model\n",
    "model_json = model.to_json()\n",
    "with open(\"../../models/GRU_7/model_GRU.json\", \"w\") as json_file:\n",
    "    json_file.write(model_json)\n",
    "model.save_weights(\"../../models/GRU_7/model_GRU.h5\")"
   ]
  },
  {
   "cell_type": "markdown",
   "metadata": {},
   "source": [
    "# LSTM"
   ]
  },
  {
   "cell_type": "code",
   "execution_count": 17,
   "metadata": {},
   "outputs": [],
   "source": [
    "from tensorflow.keras.models import Sequential\n",
    "from tensorflow.keras.layers import Embedding,Dense,SimpleRNN, LSTM, Bidirectional, Masking\n",
    "from tensorflow.keras.initializers import Constant\n",
    "\n",
    "def LSTM_model():\n",
    "    model = Sequential()\n",
    "    embedding_layer = Embedding(vocab_len,100,embeddings_initializer = Constant(word_matrix),input_length=longest_sentence_len,trainable=False)\n",
    "    model.add(embedding_layer)\n",
    "    model.add(Masking(mask_value=0.0))\n",
    "    model.add(LSTM(64, return_sequences=False, dropout=0.35))\n",
    "    model.add(Dense(1, activation='relu'))\n",
    "    model.compile(loss='mean_squared_error', optimizer='adam', metrics=['accuracy'])\n",
    "    return model"
   ]
  },
  {
   "cell_type": "code",
   "execution_count": 18,
   "metadata": {
    "scrolled": true
   },
   "outputs": [
    {
     "name": "stdout",
     "output_type": "stream",
     "text": [
      "Model: \"sequential_1\"\n",
      "_________________________________________________________________\n",
      "Layer (type)                 Output Shape              Param #   \n",
      "=================================================================\n",
      "embedding_1 (Embedding)      (None, 300, 100)          9365400   \n",
      "_________________________________________________________________\n",
      "masking (Masking)            (None, 300, 100)          0         \n",
      "_________________________________________________________________\n",
      "lstm (LSTM)                  (None, 64)                42240     \n",
      "_________________________________________________________________\n",
      "dense_1 (Dense)              (None, 1)                 65        \n",
      "=================================================================\n",
      "Total params: 9,407,705\n",
      "Trainable params: 42,305\n",
      "Non-trainable params: 9,365,400\n",
      "_________________________________________________________________\n"
     ]
    }
   ],
   "source": [
    "model2 = LSTM_model()\n",
    "model2.summary()"
   ]
  },
  {
   "cell_type": "code",
   "execution_count": 19,
   "metadata": {
    "scrolled": true
   },
   "outputs": [
    {
     "name": "stdout",
     "output_type": "stream",
     "text": [
      "Train on 89674 samples, validate on 22418 samples\n",
      "Epoch 1/15\n",
      "89674/89674 [==============================] - 291s 3ms/sample - loss: 0.1284 - accuracy: 0.8331 - val_loss: 0.1080 - val_accuracy: 0.8004\n",
      "Epoch 2/15\n",
      "89674/89674 [==============================] - 282s 3ms/sample - loss: 0.0985 - accuracy: 0.8669 - val_loss: 0.0970 - val_accuracy: 0.8724\n",
      "Epoch 3/15\n",
      "89674/89674 [==============================] - 281s 3ms/sample - loss: 0.0905 - accuracy: 0.8763 - val_loss: 0.0874 - val_accuracy: 0.8927\n",
      "Epoch 4/15\n",
      "89674/89674 [==============================] - 282s 3ms/sample - loss: 0.0845 - accuracy: 0.8841 - val_loss: 0.0864 - val_accuracy: 0.8971\n",
      "Epoch 5/15\n",
      "89674/89674 [==============================] - 281s 3ms/sample - loss: 0.0805 - accuracy: 0.8884 - val_loss: 0.0868 - val_accuracy: 0.8511\n",
      "Epoch 6/15\n",
      "89674/89674 [==============================] - 280s 3ms/sample - loss: 0.0774 - accuracy: 0.8930 - val_loss: 0.0839 - val_accuracy: 0.9014\n",
      "Epoch 7/15\n",
      "89674/89674 [==============================] - 280s 3ms/sample - loss: 0.0741 - accuracy: 0.8956 - val_loss: 0.0855 - val_accuracy: 0.9151\n",
      "Epoch 8/15\n",
      "89674/89674 [==============================] - 280s 3ms/sample - loss: 0.0700 - accuracy: 0.9027 - val_loss: 0.0829 - val_accuracy: 0.8837\n",
      "Epoch 9/15\n",
      "89674/89674 [==============================] - 279s 3ms/sample - loss: 0.0680 - accuracy: 0.9045 - val_loss: 0.0834 - val_accuracy: 0.9107\n",
      "Epoch 10/15\n",
      "89674/89674 [==============================] - 279s 3ms/sample - loss: 0.0654 - accuracy: 0.9075 - val_loss: 0.0873 - val_accuracy: 0.9186\n",
      "Epoch 11/15\n",
      "89674/89674 [==============================] - 279s 3ms/sample - loss: 0.0625 - accuracy: 0.9119 - val_loss: 0.0828 - val_accuracy: 0.8996\n",
      "Epoch 12/15\n",
      "89674/89674 [==============================] - 280s 3ms/sample - loss: 0.0595 - accuracy: 0.9147 - val_loss: 0.0929 - val_accuracy: 0.9277\n",
      "Epoch 13/15\n",
      "89674/89674 [==============================] - 280s 3ms/sample - loss: 0.0573 - accuracy: 0.9196 - val_loss: 0.0839 - val_accuracy: 0.9048\n",
      "Epoch 14/15\n",
      "89674/89674 [==============================] - 281s 3ms/sample - loss: 0.0553 - accuracy: 0.9206 - val_loss: 0.0912 - val_accuracy: 0.9169\n",
      "Epoch 15/15\n",
      "89674/89674 [==============================] - 280s 3ms/sample - loss: 0.0535 - accuracy: 0.9227 - val_loss: 0.0897 - val_accuracy: 0.9129\n"
     ]
    }
   ],
   "source": [
    "logdir = \"../../logs/lstm_1/\" + datetime.now().strftime(\"%Y%m%d-%H%M%S\")\n",
    "tensorboard_callback = keras.callbacks.TensorBoard(log_dir=logdir, histogram_freq=0,profile_batch=0)\n",
    "\n",
    "lstm_history = model2.fit(train_padded,train_attack,batch_size=128, epochs=15, \n",
    "                          validation_data=(test_padded,test_attack),verbose=1, class_weight=weights, \n",
    "                          callbacks=[tensorboard_callback])"
   ]
  },
  {
   "cell_type": "code",
   "execution_count": 21,
   "metadata": {},
   "outputs": [],
   "source": [
    "model2_json = model2.to_json()\n",
    "with open(\"../../logs/lstm_1/model_LSTM.json\", \"w\") as json_file:\n",
    "    json_file.write(model2_json)\n",
    "model2.save_weights(\"../../logs/lstm_1/model_LSTM.h5\")"
   ]
  },
  {
   "cell_type": "code",
   "execution_count": 23,
   "metadata": {},
   "outputs": [
    {
     "data": {
      "image/png": "[encoded data removed]",
      "text/plain": [
       "<Figure size 432x288 with 1 Axes>"
      ]
     },
     "metadata": {
      "needs_background": "light"
     },
     "output_type": "display_data"
    },
    {
     "data": {
      "image/png": "[encoded data removed]",
      "text/plain": [
       "<Figure size 432x288 with 1 Axes>"
      ]
     },
     "metadata": {
      "needs_background": "light"
     },
     "output_type": "display_data"
    }
   ],
   "source": [
    "import matplotlib.pyplot as plt\n",
    "\n",
    "plt.plot(lstm_history.history['accuracy'])\n",
    "plt.plot(lstm_history.history['val_accuracy'])\n",
    "plt.title('model accuracy')\n",
    "plt.ylabel('accuracy')\n",
    "plt.xlabel('epoch')\n",
    "plt.legend(['train', 'test'], loc='upper left')\n",
    "plt.show()\n",
    "# summarize history for loss\n",
    "plt.plot(lstm_history.history['loss'])\n",
    "plt.plot(lstm_history.history['val_loss'])\n",
    "plt.title('model loss')\n",
    "plt.ylabel('loss')\n",
    "plt.xlabel('epoch')\n",
    "plt.legend(['train', 'test'], loc='upper left')\n",
    "plt.show()"
   ]
  },
  {
   "cell_type": "markdown",
   "metadata": {},
   "source": [
    "# Data resampling"
   ]
  },
  {
   "cell_type": "code",
   "execution_count": 24,
   "metadata": {},
   "outputs": [
    {
     "data": {
      "text/plain": [
       "(array([0, 1], dtype=int32), array([78913, 10761]))"
      ]
     },
     "execution_count": 24,
     "metadata": {},
     "output_type": "execute_result"
    }
   ],
   "source": [
    "np.unique(train_attack, return_counts = True)\n"
   ]
  },
  {
   "cell_type": "code",
   "execution_count": 25,
   "metadata": {},
   "outputs": [],
   "source": [
    "resampled_train_attack = []\n",
    "resampled_train_padded = []\n",
    "\n",
    "y = np.bincount(train_attack)\n",
    "difference = y[0] - y[1]\n",
    "num_attacks = 0\n",
    "\n",
    "for i in range(y[0]+y[1]):\n",
    "    \n",
    "    if(train_attack[i]==1):\n",
    "        resampled_train_padded.append(train_padded[i])\n",
    "        resampled_train_attack.append(train_attack[i])\n",
    "    elif(train_attack[i]==0 and num_attacks < y[1]):\n",
    "        resampled_train_padded.append(train_padded[i])\n",
    "        resampled_train_attack.append(train_attack[i])\n",
    "        num_attacks = num_attacks + 1\n",
    "        \n",
    "        \n",
    "resampled_test_attack = []\n",
    "resampled_test_padded = []\n",
    "\n",
    "y = np.bincount(test_attack)\n",
    "difference = y[0] - y[1]\n",
    "num_attacks = 0\n",
    "\n",
    "for i in range(y[0]+y[1]):\n",
    "    \n",
    "    if(test_attack[i]==1):\n",
    "        resampled_test_padded.append(test_padded[i])\n",
    "        resampled_test_attack.append(test_attack[i])\n",
    "    elif(test_attack[i]==0 and num_attacks < y[1]):\n",
    "        resampled_test_padded.append(test_padded[i])\n",
    "        resampled_test_attack.append(test_attack[i])\n",
    "        num_attacks = num_attacks + 1        "
   ]
  },
  {
   "cell_type": "code",
   "execution_count": 26,
   "metadata": {},
   "outputs": [
    {
     "data": {
      "text/plain": [
       "(4890,)"
      ]
     },
     "execution_count": 26,
     "metadata": {},
     "output_type": "execute_result"
    }
   ],
   "source": [
    "np.asarray(resampled_test_attack).shape"
   ]
  },
  {
   "cell_type": "markdown",
   "metadata": {},
   "source": [
    "# LSTM with downsampled data model"
   ]
  },
  {
   "cell_type": "code",
   "execution_count": 33,
   "metadata": {},
   "outputs": [],
   "source": [
    "from tensorflow.keras.layers import Embedding,Dense,SimpleRNN, Masking, LSTM\n",
    "\n",
    "def LSTM_downsampled():\n",
    "    model = Sequential()\n",
    "    embedding_layer = Embedding(vocab_len,100,embeddings_initializer = Constant(word_matrix),input_length=longest_sentence_len,trainable=False)\n",
    "    model.add(embedding_layer)\n",
    "    model.add(Masking(mask_value=0.0))\n",
    "    model.add(LSTM(16, dropout=0.35))\n",
    "    model.add(Dense(16,activation = 'relu'))\n",
    "    model.add(Dense(1, activation='sigmoid'))\n",
    "    model.compile(loss='mean_squared_error', optimizer='adam', metrics=['accuracy'])\n",
    "    return model"
   ]
  },
  {
   "cell_type": "code",
   "execution_count": 34,
   "metadata": {},
   "outputs": [
    {
     "name": "stdout",
     "output_type": "stream",
     "text": [
      "Model: \"sequential_3\"\n",
      "_________________________________________________________________\n",
      "Layer (type)                 Output Shape              Param #   \n",
      "=================================================================\n",
      "embedding_3 (Embedding)      (None, 300, 100)          9365400   \n",
      "_________________________________________________________________\n",
      "masking_2 (Masking)          (None, 300, 100)          0         \n",
      "_________________________________________________________________\n",
      "lstm_2 (LSTM)                (None, 16)                7488      \n",
      "_________________________________________________________________\n",
      "dense_4 (Dense)              (None, 16)                272       \n",
      "_________________________________________________________________\n",
      "dense_5 (Dense)              (None, 1)                 17        \n",
      "=================================================================\n",
      "Total params: 9,373,177\n",
      "Trainable params: 7,777\n",
      "Non-trainable params: 9,365,400\n",
      "_________________________________________________________________\n"
     ]
    }
   ],
   "source": [
    "model3 = LSTM_downsampled()\n",
    "model3.summary()"
   ]
  },
  {
   "cell_type": "code",
   "execution_count": 35,
   "metadata": {},
   "outputs": [
    {
     "name": "stdout",
     "output_type": "stream",
     "text": [
      "Train on 21522 samples, validate on 4890 samples\n",
      "Epoch 1/15\n",
      "21522/21522 [==============================] - 147s 7ms/sample - loss: 0.1599 - accuracy: 0.7646 - val_loss: 0.1233 - val_accuracy: 0.8303\n",
      "Epoch 2/15\n",
      "21522/21522 [==============================] - 142s 7ms/sample - loss: 0.1176 - accuracy: 0.8394 - val_loss: 0.1143 - val_accuracy: 0.8438\n",
      "Epoch 3/15\n",
      "21522/21522 [==============================] - 142s 7ms/sample - loss: 0.1105 - accuracy: 0.8491 - val_loss: 0.1146 - val_accuracy: 0.8403\n",
      "Epoch 4/15\n",
      "21522/21522 [==============================] - 143s 7ms/sample - loss: 0.1036 - accuracy: 0.8592 - val_loss: 0.1105 - val_accuracy: 0.8487\n",
      "Epoch 5/15\n",
      "21522/21522 [==============================] - 143s 7ms/sample - loss: 0.1009 - accuracy: 0.8610 - val_loss: 0.1015 - val_accuracy: 0.8620\n",
      "Epoch 6/15\n",
      "21522/21522 [==============================] - 144s 7ms/sample - loss: 0.0963 - accuracy: 0.8693 - val_loss: 0.0993 - val_accuracy: 0.8648\n",
      "Epoch 7/15\n",
      "21522/21522 [==============================] - 144s 7ms/sample - loss: 0.0936 - accuracy: 0.8721 - val_loss: 0.1044 - val_accuracy: 0.8513\n",
      "Epoch 8/15\n",
      "21522/21522 [==============================] - 144s 7ms/sample - loss: 0.0917 - accuracy: 0.8755 - val_loss: 0.0984 - val_accuracy: 0.8620\n",
      "Epoch 9/15\n",
      "21522/21522 [==============================] - 145s 7ms/sample - loss: 0.0896 - accuracy: 0.8761 - val_loss: 0.0968 - val_accuracy: 0.8687\n",
      "Epoch 10/15\n",
      "21522/21522 [==============================] - 145s 7ms/sample - loss: 0.0866 - accuracy: 0.8829 - val_loss: 0.0959 - val_accuracy: 0.8663\n",
      "Epoch 11/15\n",
      "21522/21522 [==============================] - 145s 7ms/sample - loss: 0.0853 - accuracy: 0.8836 - val_loss: 0.0989 - val_accuracy: 0.8650\n",
      "Epoch 12/15\n",
      "21522/21522 [==============================] - 145s 7ms/sample - loss: 0.0836 - accuracy: 0.8880 - val_loss: 0.1001 - val_accuracy: 0.8560\n",
      "Epoch 13/15\n",
      "21522/21522 [==============================] - 147s 7ms/sample - loss: 0.0845 - accuracy: 0.8833 - val_loss: 0.0950 - val_accuracy: 0.8703\n",
      "Epoch 14/15\n",
      "21522/21522 [==============================] - 147s 7ms/sample - loss: 0.0829 - accuracy: 0.8872 - val_loss: 0.0938 - val_accuracy: 0.8712\n",
      "Epoch 15/15\n",
      "21522/21522 [==============================] - 148s 7ms/sample - loss: 0.0816 - accuracy: 0.8911 - val_loss: 0.0953 - val_accuracy: 0.8673\n"
     ]
    }
   ],
   "source": [
    "logdir = \"../../logs/lstm_2/\" + datetime.now().strftime(\"%Y%m%d-%H%M%S\")\n",
    "tensorboard_callback = keras.callbacks.TensorBoard(log_dir=logdir, histogram_freq=0,profile_batch=0)\n",
    "\n",
    "resampled_history = model3.fit(np.asarray(resampled_train_padded),np.asarray(resampled_train_attack),batch_size=64, epochs=15, \n",
    "           validation_data=(np.asarray(resampled_test_padded),np.asarray(resampled_test_attack)),\n",
    "           verbose=1, callbacks=[tensorboard_callback])"
   ]
  },
  {
   "cell_type": "code",
   "execution_count": 36,
   "metadata": {},
   "outputs": [],
   "source": [
    "model3_json = model3.to_json()\n",
    "with open(\"../../logs/lstm_2/model_LSTM.json\", \"w\") as json_file:\n",
    "    json_file.write(model3_json)\n",
    "model3.save_weights(\"../../logs/lstm_2/model_LSTM.h5\")"
   ]
  },
  {
   "cell_type": "code",
   "execution_count": 37,
   "metadata": {},
   "outputs": [
    {
     "data": {
      "image/png": "[encoded data removed]",
      "text/plain": [
       "<Figure size 432x288 with 1 Axes>"
      ]
     },
     "metadata": {
      "needs_background": "light"
     },
     "output_type": "display_data"
    },
    {
     "data": {
      "image/png": "[encoded data removed]",
      "text/plain": [
       "<Figure size 432x288 with 1 Axes>"
      ]
     },
     "metadata": {
      "needs_background": "light"
     },
     "output_type": "display_data"
    }
   ],
   "source": [
    "import matplotlib.pyplot as plt\n",
    "\n",
    "plt.plot(resampled_history.history['accuracy'])\n",
    "plt.plot(resampled_history.history['val_accuracy'])\n",
    "plt.title('model accuracy')\n",
    "plt.ylabel('accuracy')\n",
    "plt.xlabel('epoch')\n",
    "plt.legend(['train', 'test'], loc='upper left')\n",
    "plt.show()\n",
    "# summarize history for loss\n",
    "plt.plot(resampled_history.history['loss'])\n",
    "plt.plot(resampled_history.history['val_loss'])\n",
    "plt.title('model loss')\n",
    "plt.ylabel('loss')\n",
    "plt.xlabel('epoch')\n",
    "plt.legend(['train', 'test'], loc='upper left')\n",
    "plt.show()"
   ]
  },
  {
   "cell_type": "code",
   "execution_count": null,
   "metadata": {},
   "outputs": [],
   "source": []
  }
 ],
 "metadata": {
  "kernelspec": {
   "display_name": "Python 3",
   "language": "python",
   "name": "python3"
  },
  "language_info": {
   "codemirror_mode": {
    "name": "ipython",
    "version": 3
   },
   "file_extension": ".py",
   "mimetype": "text/x-python",
   "name": "python",
   "nbconvert_exporter": "python",
   "pygments_lexer": "ipython3",
   "version": "3.6.8"
  }
 },
 "nbformat": 4,
 "nbformat_minor": 2
}
